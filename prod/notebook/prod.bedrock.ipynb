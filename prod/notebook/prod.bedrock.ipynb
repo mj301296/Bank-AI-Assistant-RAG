{
 "cells": [
  {
   "cell_type": "markdown",
   "id": "a29ad3cf",
   "metadata": {},
   "source": [
    "Dependencies"
   ]
  },
  {
   "cell_type": "code",
   "execution_count": null,
   "id": "0889a668",
   "metadata": {
    "vscode": {
     "languageId": "plaintext"
    }
   },
   "outputs": [],
   "source": [
    "!pip install boto3 faiss-cpu langchain pypdf"
   ]
  },
  {
   "cell_type": "markdown",
   "id": "13f053af",
   "metadata": {},
   "source": [
    "Imports & Bedrock Client Setup"
   ]
  },
  {
   "cell_type": "code",
   "execution_count": null,
   "id": "a70b2716",
   "metadata": {
    "vscode": {
     "languageId": "plaintext"
    }
   },
   "outputs": [],
   "source": [
    "\n",
    "import boto3, json\n",
    "import faiss\n",
    "import numpy as np\n",
    "from PyPDF2 import PdfReader\n",
    "from langchain.text_splitter import RecursiveCharacterTextSplitter\n",
    "\n",
    "# Bedrock client\n",
    "session = boto3.Session(region_name=\"us-east-1\")  # change region if needed\n",
    "bedrock = session.client(\"bedrock-runtime\")\n"
   ]
  },
  {
   "cell_type": "markdown",
   "id": "8995de17",
   "metadata": {},
   "source": [
    "Load PDF"
   ]
  },
  {
   "cell_type": "code",
   "execution_count": null,
   "id": "d2c4e426",
   "metadata": {
    "vscode": {
     "languageId": "plaintext"
    }
   },
   "outputs": [],
   "source": [
    "def load_pdf(path):\n",
    "    reader = PdfReader(path)\n",
    "    text = \"\"\n",
    "    for page in reader.pages:\n",
    "        text += page.extract_text() + \"\\n\"\n",
    "    return text\n",
    "\n",
    "pdf_path = \"Bank_of_America_Service_Agreement.pdf\"  # update with your file\n",
    "document_text = load_pdf(pdf_path)\n",
    "print(\"Document length (chars):\", len(document_text))"
   ]
  },
  {
   "cell_type": "markdown",
   "id": "651d6f42",
   "metadata": {},
   "source": [
    "Chunk Text"
   ]
  },
  {
   "cell_type": "code",
   "execution_count": null,
   "id": "56a5364b",
   "metadata": {
    "vscode": {
     "languageId": "plaintext"
    }
   },
   "outputs": [],
   "source": [
    "splitter = RecursiveCharacterTextSplitter(\n",
    "    chunk_size=800,\n",
    "    chunk_overlap=100,\n",
    "    separators=[\"\\n\\n\", \"\\n\", \".\", \" \"]\n",
    ")\n",
    "\n",
    "chunks = splitter.split_text(document_text)\n",
    "print(f\"Total chunks created: {len(chunks)}\")\n",
    "print(chunks[0][:500])  # preview first chunk\n"
   ]
  },
  {
   "cell_type": "markdown",
   "id": "01264307",
   "metadata": {},
   "source": [
    "Generate Embeddings (Titan via Bedrock)"
   ]
  },
  {
   "cell_type": "code",
   "execution_count": null,
   "id": "cbd4cf91",
   "metadata": {
    "vscode": {
     "languageId": "plaintext"
    }
   },
   "outputs": [],
   "source": [
    "EMBED_MODEL = \"amazon.titan-embed-text-v1\"\n",
    "\n",
    "def embed_text(text):\n",
    "    response = bedrock.invoke_model(\n",
    "        modelId=EMBED_MODEL,\n",
    "        contentType=\"application/json\",\n",
    "        accept=\"application/json\",\n",
    "        body=json.dumps({\"inputText\": text})\n",
    "    )\n",
    "    result = json.loads(response[\"body\"].read().decode(\"utf-8\"))\n",
    "    return np.array(result[\"embedding\"], dtype=np.float32)\n",
    "\n",
    "# Test embedding\n",
    "test_vector = embed_text(\"Hello World!\")\n",
    "print(\"Embedding length:\", len(test_vector))\n"
   ]
  },
  {
   "cell_type": "markdown",
   "id": "eb8d5508",
   "metadata": {},
   "source": [
    "Build FAISS Index"
   ]
  },
  {
   "cell_type": "code",
   "execution_count": null,
   "id": "1f28521e",
   "metadata": {
    "vscode": {
     "languageId": "plaintext"
    }
   },
   "outputs": [],
   "source": [
    "dimension = len(embed_text(\"test\"))\n",
    "index = faiss.IndexFlatL2(dimension)\n",
    "\n",
    "embeddings = [embed_text(chunk) for chunk in chunks]\n",
    "index.add(np.vstack(embeddings))\n",
    "\n",
    "print(\"FAISS index built. Total vectors:\", index.ntotal)\n"
   ]
  },
  {
   "cell_type": "markdown",
   "id": "374c19a6",
   "metadata": {},
   "source": [
    "Define RAG Query Function"
   ]
  },
  {
   "cell_type": "code",
   "execution_count": null,
   "id": "81d19119",
   "metadata": {
    "vscode": {
     "languageId": "plaintext"
    }
   },
   "outputs": [],
   "source": [
    "LLM_MODEL = \"anthropic.claude-3-sonnet-20240229-v1:0\"\n",
    "\n",
    "def rag_query(question, top_k=3):\n",
    "    q_emb = embed_text(question).reshape(1, -1)\n",
    "    _, I = index.search(q_emb, top_k)\n",
    "    retrieved = [chunks[i] for i in I[0]]\n",
    "    context = \"\\n\\n\".join(retrieved)\n",
    "    \n",
    "    prompt = f\"\"\"\n",
    "    You are a helpful assistant. Answer based ONLY on the Bank of America Online Banking Service Agreement.\n",
    "    If unsure, say \"I don’t know.\"\n",
    "\n",
    "    Context:\n",
    "    {context}\n",
    "\n",
    "    Question: {question}\n",
    "    Answer:\n",
    "    \"\"\"\n",
    "    \n",
    "    response = bedrock.invoke_model(\n",
    "        modelId=LLM_MODEL,\n",
    "        contentType=\"application/json\",\n",
    "        accept=\"application/json\",\n",
    "        body=json.dumps({\n",
    "            \"anthropic_version\": \"bedrock-2023-05-31\",\n",
    "            \"max_tokens\": 300,\n",
    "            \"messages\": [{\"role\": \"user\", \"content\": prompt}]\n",
    "        })\n",
    "    )\n",
    "    return response[\"body\"].read().decode(\"utf-8\")\n"
   ]
  },
  {
   "cell_type": "markdown",
   "id": "64a6df2d",
   "metadata": {},
   "source": [
    "Sample Queries"
   ]
  },
  {
   "cell_type": "code",
   "execution_count": null,
   "id": "53861ac1",
   "metadata": {
    "vscode": {
     "languageId": "plaintext"
    }
   },
   "outputs": [],
   "source": [
    "print(rag_query(\"What is the Zelle transfer limit for new users?\"))\n",
    "print(rag_query(\"How do I cancel a scheduled bill payment?\"))\n",
    "print(rag_query(\"What is the cut-off time for domestic wire transfers?\"))\n"
   ]
  }
 ],
 "metadata": {
  "language_info": {
   "name": "python"
  }
 },
 "nbformat": 4,
 "nbformat_minor": 5
}
