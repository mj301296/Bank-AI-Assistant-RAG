{
 "cells": [
  {
   "cell_type": "markdown",
   "id": "a29ad3cf",
   "metadata": {},
   "source": [
    "Dependencies"
   ]
  },
  {
   "cell_type": "code",
   "execution_count": null,
   "id": "0889a668",
   "metadata": {},
   "outputs": [
    {
     "name": "stdout",
     "output_type": "stream",
     "text": [
      "Requirement already satisfied: faiss-cpu in /Volumes/nvme1TB_SSD/IdeaProjects/Bank-AI-Assistant-RAG/rag_env/lib/python3.9/site-packages (1.12.0)\n",
      "Requirement already satisfied: langchain in /Volumes/nvme1TB_SSD/IdeaProjects/Bank-AI-Assistant-RAG/rag_env/lib/python3.9/site-packages (0.3.27)\n",
      "Requirement already satisfied: pypdf in /Volumes/nvme1TB_SSD/IdeaProjects/Bank-AI-Assistant-RAG/rag_env/lib/python3.9/site-packages (6.0.0)\n",
      "Requirement already satisfied: sentence-transformers in /Volumes/nvme1TB_SSD/IdeaProjects/Bank-AI-Assistant-RAG/rag_env/lib/python3.9/site-packages (5.1.0)\n",
      "Requirement already satisfied: transformers in /Volumes/nvme1TB_SSD/IdeaProjects/Bank-AI-Assistant-RAG/rag_env/lib/python3.9/site-packages (4.56.1)\n",
      "Requirement already satisfied: packaging in /Volumes/nvme1TB_SSD/IdeaProjects/Bank-AI-Assistant-RAG/rag_env/lib/python3.9/site-packages (from faiss-cpu) (25.0)\n",
      "Requirement already satisfied: numpy<3.0,>=1.25.0 in /Volumes/nvme1TB_SSD/IdeaProjects/Bank-AI-Assistant-RAG/rag_env/lib/python3.9/site-packages (from faiss-cpu) (2.0.2)\n",
      "Requirement already satisfied: async-timeout<5.0.0,>=4.0.0 in /Volumes/nvme1TB_SSD/IdeaProjects/Bank-AI-Assistant-RAG/rag_env/lib/python3.9/site-packages (from langchain) (4.0.3)\n",
      "Requirement already satisfied: pydantic<3.0.0,>=2.7.4 in /Volumes/nvme1TB_SSD/IdeaProjects/Bank-AI-Assistant-RAG/rag_env/lib/python3.9/site-packages (from langchain) (2.11.7)\n",
      "Requirement already satisfied: requests<3,>=2 in /Volumes/nvme1TB_SSD/IdeaProjects/Bank-AI-Assistant-RAG/rag_env/lib/python3.9/site-packages (from langchain) (2.32.5)\n",
      "Requirement already satisfied: SQLAlchemy<3,>=1.4 in /Volumes/nvme1TB_SSD/IdeaProjects/Bank-AI-Assistant-RAG/rag_env/lib/python3.9/site-packages (from langchain) (2.0.43)\n",
      "Requirement already satisfied: PyYAML>=5.3 in /Volumes/nvme1TB_SSD/IdeaProjects/Bank-AI-Assistant-RAG/rag_env/lib/python3.9/site-packages (from langchain) (6.0.2)\n",
      "Requirement already satisfied: langchain-text-splitters<1.0.0,>=0.3.9 in /Volumes/nvme1TB_SSD/IdeaProjects/Bank-AI-Assistant-RAG/rag_env/lib/python3.9/site-packages (from langchain) (0.3.11)\n",
      "Requirement already satisfied: langsmith>=0.1.17 in /Volumes/nvme1TB_SSD/IdeaProjects/Bank-AI-Assistant-RAG/rag_env/lib/python3.9/site-packages (from langchain) (0.4.25)\n",
      "Requirement already satisfied: langchain-core<1.0.0,>=0.3.72 in /Volumes/nvme1TB_SSD/IdeaProjects/Bank-AI-Assistant-RAG/rag_env/lib/python3.9/site-packages (from langchain) (0.3.75)\n",
      "Requirement already satisfied: typing_extensions>=4.0 in /Volumes/nvme1TB_SSD/IdeaProjects/Bank-AI-Assistant-RAG/rag_env/lib/python3.9/site-packages (from pypdf) (4.15.0)\n",
      "Requirement already satisfied: scipy in /Volumes/nvme1TB_SSD/IdeaProjects/Bank-AI-Assistant-RAG/rag_env/lib/python3.9/site-packages (from sentence-transformers) (1.13.1)\n",
      "Requirement already satisfied: Pillow in /Volumes/nvme1TB_SSD/IdeaProjects/Bank-AI-Assistant-RAG/rag_env/lib/python3.9/site-packages (from sentence-transformers) (11.3.0)\n",
      "Requirement already satisfied: huggingface-hub>=0.20.0 in /Volumes/nvme1TB_SSD/IdeaProjects/Bank-AI-Assistant-RAG/rag_env/lib/python3.9/site-packages (from sentence-transformers) (0.34.4)\n",
      "Requirement already satisfied: tqdm in /Volumes/nvme1TB_SSD/IdeaProjects/Bank-AI-Assistant-RAG/rag_env/lib/python3.9/site-packages (from sentence-transformers) (4.67.1)\n",
      "Requirement already satisfied: torch>=1.11.0 in /Volumes/nvme1TB_SSD/IdeaProjects/Bank-AI-Assistant-RAG/rag_env/lib/python3.9/site-packages (from sentence-transformers) (2.2.2)\n",
      "Requirement already satisfied: scikit-learn in /Volumes/nvme1TB_SSD/IdeaProjects/Bank-AI-Assistant-RAG/rag_env/lib/python3.9/site-packages (from sentence-transformers) (1.6.1)\n",
      "Requirement already satisfied: regex!=2019.12.17 in /Volumes/nvme1TB_SSD/IdeaProjects/Bank-AI-Assistant-RAG/rag_env/lib/python3.9/site-packages (from transformers) (2025.9.1)\n",
      "Requirement already satisfied: tokenizers<=0.23.0,>=0.22.0 in /Volumes/nvme1TB_SSD/IdeaProjects/Bank-AI-Assistant-RAG/rag_env/lib/python3.9/site-packages (from transformers) (0.22.0)\n",
      "Requirement already satisfied: safetensors>=0.4.3 in /Volumes/nvme1TB_SSD/IdeaProjects/Bank-AI-Assistant-RAG/rag_env/lib/python3.9/site-packages (from transformers) (0.6.2)\n",
      "Requirement already satisfied: filelock in /Volumes/nvme1TB_SSD/IdeaProjects/Bank-AI-Assistant-RAG/rag_env/lib/python3.9/site-packages (from transformers) (3.19.1)\n",
      "Requirement already satisfied: fsspec>=2023.5.0 in /Volumes/nvme1TB_SSD/IdeaProjects/Bank-AI-Assistant-RAG/rag_env/lib/python3.9/site-packages (from huggingface-hub>=0.20.0->sentence-transformers) (2025.9.0)\n",
      "Requirement already satisfied: hf-xet<2.0.0,>=1.1.3 in /Volumes/nvme1TB_SSD/IdeaProjects/Bank-AI-Assistant-RAG/rag_env/lib/python3.9/site-packages (from huggingface-hub>=0.20.0->sentence-transformers) (1.1.9)\n",
      "Requirement already satisfied: tenacity!=8.4.0,<10.0.0,>=8.1.0 in /Volumes/nvme1TB_SSD/IdeaProjects/Bank-AI-Assistant-RAG/rag_env/lib/python3.9/site-packages (from langchain-core<1.0.0,>=0.3.72->langchain) (9.1.2)\n",
      "Requirement already satisfied: jsonpatch<2.0,>=1.33 in /Volumes/nvme1TB_SSD/IdeaProjects/Bank-AI-Assistant-RAG/rag_env/lib/python3.9/site-packages (from langchain-core<1.0.0,>=0.3.72->langchain) (1.33)\n",
      "Requirement already satisfied: jsonpointer>=1.9 in /Volumes/nvme1TB_SSD/IdeaProjects/Bank-AI-Assistant-RAG/rag_env/lib/python3.9/site-packages (from jsonpatch<2.0,>=1.33->langchain-core<1.0.0,>=0.3.72->langchain) (3.0.0)\n",
      "Requirement already satisfied: zstandard>=0.23.0 in /Volumes/nvme1TB_SSD/IdeaProjects/Bank-AI-Assistant-RAG/rag_env/lib/python3.9/site-packages (from langsmith>=0.1.17->langchain) (0.24.0)\n",
      "Requirement already satisfied: requests-toolbelt>=1.0.0 in /Volumes/nvme1TB_SSD/IdeaProjects/Bank-AI-Assistant-RAG/rag_env/lib/python3.9/site-packages (from langsmith>=0.1.17->langchain) (1.0.0)\n",
      "Requirement already satisfied: httpx<1,>=0.23.0 in /Volumes/nvme1TB_SSD/IdeaProjects/Bank-AI-Assistant-RAG/rag_env/lib/python3.9/site-packages (from langsmith>=0.1.17->langchain) (0.28.1)\n",
      "Requirement already satisfied: orjson>=3.9.14 in /Volumes/nvme1TB_SSD/IdeaProjects/Bank-AI-Assistant-RAG/rag_env/lib/python3.9/site-packages (from langsmith>=0.1.17->langchain) (3.11.3)\n",
      "Requirement already satisfied: idna in /Volumes/nvme1TB_SSD/IdeaProjects/Bank-AI-Assistant-RAG/rag_env/lib/python3.9/site-packages (from httpx<1,>=0.23.0->langsmith>=0.1.17->langchain) (3.10)\n",
      "Requirement already satisfied: httpcore==1.* in /Volumes/nvme1TB_SSD/IdeaProjects/Bank-AI-Assistant-RAG/rag_env/lib/python3.9/site-packages (from httpx<1,>=0.23.0->langsmith>=0.1.17->langchain) (1.0.9)\n",
      "Requirement already satisfied: anyio in /Volumes/nvme1TB_SSD/IdeaProjects/Bank-AI-Assistant-RAG/rag_env/lib/python3.9/site-packages (from httpx<1,>=0.23.0->langsmith>=0.1.17->langchain) (4.10.0)\n",
      "Requirement already satisfied: certifi in /Volumes/nvme1TB_SSD/IdeaProjects/Bank-AI-Assistant-RAG/rag_env/lib/python3.9/site-packages (from httpx<1,>=0.23.0->langsmith>=0.1.17->langchain) (2025.8.3)\n",
      "Requirement already satisfied: h11>=0.16 in /Volumes/nvme1TB_SSD/IdeaProjects/Bank-AI-Assistant-RAG/rag_env/lib/python3.9/site-packages (from httpcore==1.*->httpx<1,>=0.23.0->langsmith>=0.1.17->langchain) (0.16.0)\n",
      "Requirement already satisfied: pydantic-core==2.33.2 in /Volumes/nvme1TB_SSD/IdeaProjects/Bank-AI-Assistant-RAG/rag_env/lib/python3.9/site-packages (from pydantic<3.0.0,>=2.7.4->langchain) (2.33.2)\n",
      "Requirement already satisfied: typing-inspection>=0.4.0 in /Volumes/nvme1TB_SSD/IdeaProjects/Bank-AI-Assistant-RAG/rag_env/lib/python3.9/site-packages (from pydantic<3.0.0,>=2.7.4->langchain) (0.4.1)\n",
      "Requirement already satisfied: annotated-types>=0.6.0 in /Volumes/nvme1TB_SSD/IdeaProjects/Bank-AI-Assistant-RAG/rag_env/lib/python3.9/site-packages (from pydantic<3.0.0,>=2.7.4->langchain) (0.7.0)\n",
      "Requirement already satisfied: urllib3<3,>=1.21.1 in /Volumes/nvme1TB_SSD/IdeaProjects/Bank-AI-Assistant-RAG/rag_env/lib/python3.9/site-packages (from requests<3,>=2->langchain) (1.26.20)\n",
      "Requirement already satisfied: charset_normalizer<4,>=2 in /Volumes/nvme1TB_SSD/IdeaProjects/Bank-AI-Assistant-RAG/rag_env/lib/python3.9/site-packages (from requests<3,>=2->langchain) (3.4.3)\n",
      "Requirement already satisfied: greenlet>=1 in /Volumes/nvme1TB_SSD/IdeaProjects/Bank-AI-Assistant-RAG/rag_env/lib/python3.9/site-packages (from SQLAlchemy<3,>=1.4->langchain) (3.2.4)\n",
      "Requirement already satisfied: networkx in /Volumes/nvme1TB_SSD/IdeaProjects/Bank-AI-Assistant-RAG/rag_env/lib/python3.9/site-packages (from torch>=1.11.0->sentence-transformers) (3.2.1)\n",
      "Requirement already satisfied: jinja2 in /Volumes/nvme1TB_SSD/IdeaProjects/Bank-AI-Assistant-RAG/rag_env/lib/python3.9/site-packages (from torch>=1.11.0->sentence-transformers) (3.1.6)\n",
      "Requirement already satisfied: sympy in /Volumes/nvme1TB_SSD/IdeaProjects/Bank-AI-Assistant-RAG/rag_env/lib/python3.9/site-packages (from torch>=1.11.0->sentence-transformers) (1.14.0)\n",
      "Requirement already satisfied: exceptiongroup>=1.0.2 in /Volumes/nvme1TB_SSD/IdeaProjects/Bank-AI-Assistant-RAG/rag_env/lib/python3.9/site-packages (from anyio->httpx<1,>=0.23.0->langsmith>=0.1.17->langchain) (1.3.0)\n",
      "Requirement already satisfied: sniffio>=1.1 in /Volumes/nvme1TB_SSD/IdeaProjects/Bank-AI-Assistant-RAG/rag_env/lib/python3.9/site-packages (from anyio->httpx<1,>=0.23.0->langsmith>=0.1.17->langchain) (1.3.1)\n",
      "Requirement already satisfied: MarkupSafe>=2.0 in /Volumes/nvme1TB_SSD/IdeaProjects/Bank-AI-Assistant-RAG/rag_env/lib/python3.9/site-packages (from jinja2->torch>=1.11.0->sentence-transformers) (3.0.2)\n",
      "Requirement already satisfied: threadpoolctl>=3.1.0 in /Volumes/nvme1TB_SSD/IdeaProjects/Bank-AI-Assistant-RAG/rag_env/lib/python3.9/site-packages (from scikit-learn->sentence-transformers) (3.6.0)\n",
      "Requirement already satisfied: joblib>=1.2.0 in /Volumes/nvme1TB_SSD/IdeaProjects/Bank-AI-Assistant-RAG/rag_env/lib/python3.9/site-packages (from scikit-learn->sentence-transformers) (1.5.2)\n",
      "Requirement already satisfied: mpmath<1.4,>=1.1.0 in /Volumes/nvme1TB_SSD/IdeaProjects/Bank-AI-Assistant-RAG/rag_env/lib/python3.9/site-packages (from sympy->torch>=1.11.0->sentence-transformers) (1.3.0)\n",
      "\u001b[33mWARNING: You are using pip version 21.2.4; however, version 25.2 is available.\n",
      "You should consider upgrading via the '/Volumes/nvme1TB_SSD/IdeaProjects/Bank-AI-Assistant-RAG/rag_env/bin/python3 -m pip install --upgrade pip' command.\u001b[0m\n"
     ]
    }
   ],
   "source": [
    "# !pip install faiss-cpu langchain pypdf sentence-transformers transformers\n"
   ]
  },
  {
   "cell_type": "markdown",
   "id": "13f053af",
   "metadata": {},
   "source": [
    "Imports"
   ]
  },
  {
   "cell_type": "code",
   "execution_count": 2,
   "id": "a70b2716",
   "metadata": {},
   "outputs": [
    {
     "name": "stderr",
     "output_type": "stream",
     "text": [
      "/Volumes/nvme1TB_SSD/IdeaProjects/Bank-AI-Assistant-RAG/rag_env/lib/python3.9/site-packages/urllib3/__init__.py:35: NotOpenSSLWarning: urllib3 v2 only supports OpenSSL 1.1.1+, currently the 'ssl' module is compiled with 'LibreSSL 2.8.3'. See: https://github.com/urllib3/urllib3/issues/3020\n",
      "  warnings.warn(\n"
     ]
    }
   ],
   "source": [
    "\n",
    "import faiss\n",
    "import numpy as np\n",
    "from pypdf import PdfReader\n",
    "from langchain.text_splitter import RecursiveCharacterTextSplitter\n",
    "from sentence_transformers import SentenceTransformer\n",
    "from transformers import pipeline\n",
    "import chromadb\n",
    "from chromadb.utils import embedding_functions\n"
   ]
  },
  {
   "cell_type": "markdown",
   "id": "8995de17",
   "metadata": {},
   "source": [
    "Load PDF"
   ]
  },
  {
   "cell_type": "code",
   "execution_count": 3,
   "id": "d2c4e426",
   "metadata": {},
   "outputs": [
    {
     "name": "stdout",
     "output_type": "stream",
     "text": [
      "Document length (chars): 124022\n"
     ]
    }
   ],
   "source": [
    "def load_pdf(path):\n",
    "    reader = PdfReader(path)\n",
    "    text = \"\"\n",
    "    for page in reader.pages:\n",
    "        text += page.extract_text() + \"\\n\"\n",
    "    return text\n",
    "\n",
    "pdf_path = \"../../dataset/Bank_of_America_Online Banking_Service Agreement.pdf\"  # update path\n",
    "document_text = load_pdf(pdf_path)\n",
    "print(\"Document length (chars):\", len(document_text))\n"
   ]
  },
  {
   "cell_type": "markdown",
   "id": "651d6f42",
   "metadata": {},
   "source": [
    "Chunk Text"
   ]
  },
  {
   "cell_type": "code",
   "execution_count": 4,
   "id": "56a5364b",
   "metadata": {},
   "outputs": [
    {
     "name": "stdout",
     "output_type": "stream",
     "text": [
      "Total chunks created: 173\n",
      "Online Banking\n",
      "Online Banking Service Agreement\n",
      "‹‹  Go to Online Banking Overview\n",
      "Bank of America Online Banking Service Agreement\n",
      "Effective Date: July 21, 2025\n",
      "Table of Contents: Hide all Topics\n",
      "1. General Description of Bank of America Online Banking Service Agreement (this \"Agreement\")\n",
      "Introduction\n",
      "A. What This Agreement Covers\n",
      "B. Accepting the Agreement\n",
      "C. Relation to Other Agreements\n",
      "2. Payment & Transfer Services Using Internal Accounts and Payments to Your Bank of America Loan Accounts Fr\n"
     ]
    }
   ],
   "source": [
    "splitter = RecursiveCharacterTextSplitter(\n",
    "    chunk_size=800,\n",
    "    chunk_overlap=100,\n",
    "    separators=[\"\\n\\n\", \"\\n\", \".\", \" \"]\n",
    ")\n",
    "\n",
    "chunks = splitter.split_text(document_text)\n",
    "print(f\"Total chunks created: {len(chunks)}\")\n",
    "print(chunks[0][:500])  # preview first chunk\n"
   ]
  },
  {
   "cell_type": "markdown",
   "id": "01264307",
   "metadata": {},
   "source": [
    "Embeddings (Hugging Face SentenceTransformer)"
   ]
  },
  {
   "cell_type": "code",
   "execution_count": null,
   "id": "0d2d7082",
   "metadata": {},
   "outputs": [],
   "source": [
    "!pip install ipywidgets\n"
   ]
  },
  {
   "cell_type": "code",
   "execution_count": 5,
   "id": "cbd4cf91",
   "metadata": {},
   "outputs": [
    {
     "name": "stderr",
     "output_type": "stream",
     "text": [
      "/Volumes/nvme1TB_SSD/IdeaProjects/Bank-AI-Assistant-RAG/rag_env/lib/python3.9/site-packages/transformers/tokenization_utils_base.py:1601: FutureWarning: `clean_up_tokenization_spaces` was not set. It will be set to `True` by default. This behavior will be depracted in transformers v4.45, and will be then set to `False` by default. For more details check this issue: https://github.com/huggingface/transformers/issues/31884\n",
      "  warnings.warn(\n"
     ]
    },
    {
     "name": "stdout",
     "output_type": "stream",
     "text": [
      "Collection size: 173\n"
     ]
    }
   ],
   "source": [
    "# Start a local Chroma client (will save to .chromadb folder by default)\n",
    "\n",
    "chroma_client = chromadb.Client()\n",
    "\n",
    "# Use Hugging Face MiniLM embeddings\n",
    "hf_embed = embedding_functions.SentenceTransformerEmbeddingFunction(\n",
    "    model_name=\"all-MiniLM-L6-v2\"\n",
    ")\n",
    "\n",
    "# Create or get a collection\n",
    "collection = chroma_client.get_or_create_collection(\n",
    "    name=\"boa_rag\",\n",
    "    embedding_function=hf_embed\n",
    ")\n",
    "\n",
    "# Add chunks to the collection\n",
    "for i, chunk in enumerate(chunks):\n",
    "    collection.add(documents=[chunk], ids=[str(i)])\n",
    "\n",
    "print(\"Collection size:\", collection.count())\n"
   ]
  },
  {
   "cell_type": "code",
   "execution_count": null,
   "id": "4ef1a21a",
   "metadata": {},
   "outputs": [],
   "source": [
    "# You can swap model for bigger one if you have GPU (e.g., mistral-7B)\n",
    "qa_pipeline = pipeline(\"text-generation\", model=\"google/flan-t5-base\")\n",
    "\n",
    "def answer_with_context(question, context):\n",
    "    prompt = f\"\"\"\n",
    "    You are a helpful assistant. Answer the question using ONLY the context below.\n",
    "    If unsure, say \"I don’t know.\"\n",
    "\n",
    "    Context:\n",
    "    {context}\n",
    "\n",
    "    Question: {question}\n",
    "    Answer:\n",
    "    \"\"\"\n",
    "    outputs = qa_pipeline(prompt, max_new_tokens=300, do_sample=False)\n",
    "    return outputs[0][\"generated_text\"].split(\"Answer:\")[-1].strip()\n"
   ]
  },
  {
   "cell_type": "markdown",
   "id": "374c19a6",
   "metadata": {},
   "source": [
    "Define RAG Query Function"
   ]
  },
  {
   "cell_type": "code",
   "execution_count": null,
   "id": "81d19119",
   "metadata": {},
   "outputs": [],
   "source": [
    "def rag_query(question, top_k=3):\n",
    "    results = collection.query(query_texts=[question], n_results=top_k)\n",
    "    retrieved = results[\"documents\"][0]\n",
    "    context = \"\\n\\n\".join(retrieved)\n",
    "    return answer_with_context(question, context)\n"
   ]
  },
  {
   "cell_type": "markdown",
   "id": "64a6df2d",
   "metadata": {},
   "source": [
    "Sample Queries"
   ]
  },
  {
   "cell_type": "code",
   "execution_count": null,
   "id": "53861ac1",
   "metadata": {},
   "outputs": [],
   "source": [
    "print(rag_query(\"What is the Zelle transfer limit for new users?\"))\n",
    "print(rag_query(\"How do I cancel a scheduled bill payment?\"))\n",
    "print(rag_query(\"What is the cut-off time for domestic wire transfers?\"))\n"
   ]
  },
  {
   "cell_type": "code",
   "execution_count": null,
   "id": "9ccf61db-19de-44ee-a115-0b97a77f4923",
   "metadata": {},
   "outputs": [],
   "source": []
  }
 ],
 "metadata": {
  "kernelspec": {
   "display_name": "Python 3 (ipykernel)",
   "language": "python",
   "name": "python3"
  },
  "language_info": {
   "codemirror_mode": {
    "name": "ipython",
    "version": 3
   },
   "file_extension": ".py",
   "mimetype": "text/x-python",
   "name": "python",
   "nbconvert_exporter": "python",
   "pygments_lexer": "ipython3",
   "version": "3.9.6"
  }
 },
 "nbformat": 4,
 "nbformat_minor": 5
}
